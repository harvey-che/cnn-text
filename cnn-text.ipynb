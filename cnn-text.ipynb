{
 "cells": [
  {
   "cell_type": "code",
   "execution_count": null,
   "id": "d552693d",
   "metadata": {},
   "outputs": [],
   "source": [
    "import torch\n",
    "import torch.autograd as autograd\n",
    "import torch.nn as nn\n",
    "import torch.nn.functional as F\n",
    "import torch.optim as optim\n",
    "\n",
    "torch.manual_seed(1)\n",
    "torch.__version__"
   ]
  },
  {
   "cell_type": "markdown",
   "id": "95a4314c",
   "metadata": {},
   "source": [
    "# CNN text classification model"
   ]
  },
  {
   "cell_type": "code",
   "execution_count": null,
   "id": "e34d6b8a",
   "metadata": {},
   "outputs": [],
   "source": [
    "# B: Batch size\n",
    "# E: Embedding dim, also the input weigth\n",
    "# L: The input sequence length, also the input height\n",
    "# K: Number of kernels\n",
    "# F: Number features per kernel\n",
    "class CNNText(nn.Module):\n",
    "    def __init__(self, vocab_size, embedding_dim, wind_sizes, feat_per_wind, drop_prob, nclasses):\n",
    "        # [B, E, L]: shape of inputs\n",
    "        super(CNNText, self).__init__()\n",
    "        self.vocab_size = vocab_size\n",
    "        self.embedding_dim = embedding_dim\n",
    "        self.word_embeddings = nn.Embedding(self.vocab_size, self.embedding_dim)\n",
    "        \n",
    "        # Use Conv2d to do 1d convolution,\n",
    "        # kernel_sizes: A list of integers defining window sizes. Window sizes are the same as one dim of kernel sizes.\n",
    "        self.kernel_sizes = [(s, self.embedding_dim) for s in wind_sizes]\n",
    "        self.conv2d_layers = nn.ModuleList([nn.Conv2d(in_channels=1, out_channels=feat_per_wind, kernel_size=s) for s in self.kernel_sizes])\n",
    "        for conv2d in self.conv2d_layers:\n",
    "            nn.init.xavier_normal_(conv2d.weight)\n",
    "            \n",
    "        self.linear = nn.Linear(in_features=len(self.conv2d_layers)*feat_per_wind, out_features=nclasses)\n",
    "        nn.init.normal_(self.linear.weight)\n",
    "        \n",
    "        self.dropout = nn.Dropout(p=drop_prob)\n",
    "        \n",
    "        self.loss_fn = nn.CrossEntropyLoss()\n",
    "        \n",
    "    def forward(self, words_indices):\n",
    "        # input: words indices in shape of [B, L]\n",
    "        embeddings = self.word_embeddings(words_indices).unsqueeze(1)  # [B, L] -> [B, L, E] -> [B, 1, L, E]\n",
    "        c = []\n",
    "        for conv2d in self.conv2d_layers:\n",
    "            x = F.relu(conv2d(embeddings)).squeeze(dim=3)    # [B, 1, L, E] -> [B, F, L', 1] -> [B, F, L']\n",
    "            x, _ = torch.max(x, dim=2)         # [B, F]\n",
    "            c += [x]\n",
    "\n",
    "        y = torch.cat(c, dim=1)                # [B, F*K]\n",
    "        logits = self.linear(self.dropout(y))  # [B, nclasses]\n",
    "        return logits\n",
    "    \n",
    "    def loss(self, words_indices, labels):\n",
    "        logits = self.forward(words_indices)\n",
    "        loss = self.loss_fn(logits, labels)\n",
    "        return loss"
   ]
  },
  {
   "cell_type": "markdown",
   "id": "fe4fd5bd",
   "metadata": {},
   "source": [
    "# Dataset"
   ]
  },
  {
   "cell_type": "code",
   "execution_count": null,
   "id": "b1c2b3d1",
   "metadata": {},
   "outputs": [],
   "source": [
    "from torch.utils.data import Dataset, DataLoader\n",
    "\n",
    "#TODO need build tokens and tags vocab.\n",
    "    \n",
    "class MRDataset(Dataset):\n",
    "    def __init__(self):\n",
    "        self.dataset = []\n",
    "        self.word2idx = {}\n",
    "        fpos = open('data/rt-polaritydata/rt-polaritydata/rt-polarity.pos','r', encoding='latin-1')\n",
    "        for line in fpos:\n",
    "            line = line.strip()\n",
    "            if line == '':\n",
    "                continue\n",
    "\n",
    "            tokens = line.split()\n",
    "            self.dataset += [(tokens, 1)]\n",
    "            for w in tokens:\n",
    "                if w not in self.word2idx:\n",
    "                    self.word2idx[w] = len(self.word2idx)\n",
    "            \n",
    "        fneg = open('data/rt-polaritydata/rt-polaritydata/rt-polarity.neg','r', encoding='latin-1')\n",
    "        for line in fneg:\n",
    "            line = line.strip()\n",
    "            if line == '':\n",
    "                continue\n",
    "            tokens = line.split()\n",
    "            self.dataset += [(tokens, 0)]\n",
    "            for w in tokens:\n",
    "                if w not in self.word2idx:\n",
    "                    self.word2idx[w] = len(self.word2idx)\n",
    "        \n",
    "        self.word2idx['<pad>'] = len(self.word2idx)\n",
    "        self.word2idx['<unk>'] = len(self.word2idx)\n",
    "        \n",
    "    def __len__(self):\n",
    "        return len(self.dataset)\n",
    "    \n",
    "    def __getitem__(self, idx):\n",
    "        \n",
    "        tokens, label = self.dataset[idx]\n",
    "        words_indices = [self.word2idx[w] for w in tokens]\n",
    "        \n",
    "        return words_indices, label\n",
    "\n",
    "    def vocab_size(self):\n",
    "        return len(self.word2idx)\n",
    "    \n",
    "    def vocab(self):\n",
    "        return self.word2idx.copy()\n",
    "\n",
    "\n",
    "def mrdataset_collate(batch):\n",
    "    # batch: a list of tuples of (tokens, tags)\n",
    "    # ret: a tensor for word indices and a tensor for labels\n",
    "    max_len = max([len(tokens) for tokens, _ in batch])\n",
    "    batched_tokens = []\n",
    "    batched_labels = []\n",
    "    for tokens, label in batch:\n",
    "        tokens += [dataset.word2idx['<pad>']] * (max_len - len(tokens))\n",
    "        \n",
    "        batched_tokens +=[tokens]  # [B,L]\n",
    "        batched_labels += [label]  # [B]\n",
    "    \n",
    "    return torch.tensor(batched_tokens, dtype=torch.int64), torch.tensor(batched_labels, dtype=torch.int64)\n"
   ]
  },
  {
   "cell_type": "code",
   "execution_count": null,
   "id": "2b4598e1",
   "metadata": {},
   "outputs": [],
   "source": [
    "dataset = MRDataset()\n",
    "loader = DataLoader(dataset, batch_size=32, shuffle=True, collate_fn=mrdataset_collate)"
   ]
  },
  {
   "cell_type": "markdown",
   "id": "05df645c",
   "metadata": {},
   "source": [
    "# Training"
   ]
  },
  {
   "cell_type": "code",
   "execution_count": null,
   "id": "5c797f36",
   "metadata": {},
   "outputs": [],
   "source": [
    "model = CNNText(dataset.vocab_size(), 32, [3,4,5], 64, 0.5, 2)\n",
    "optimizer = optim.Adam(model.parameters(), lr=0.001)"
   ]
  },
  {
   "cell_type": "code",
   "execution_count": null,
   "id": "224a32b0",
   "metadata": {},
   "outputs": [],
   "source": [
    "running_avg_loss = 0.\n",
    "step = 0\n",
    "for i in range(10):\n",
    "    print('epoch: ', i)\n",
    "    for tokens, labels in loader:\n",
    "        step += 1\n",
    "        loss = model.loss(tokens, labels)\n",
    "        \n",
    "        running_avg_loss = 0.9 * running_avg_loss + 0.1 * loss.item()\n",
    "        if step % 10 == 0:\n",
    "            print('training loss: ', running_avg_loss)\n",
    "            print('step loss: ', loss.item())\n",
    "\n",
    "        optimizer.zero_grad()\n",
    "        loss.backward()\n",
    "        optimizer.step()"
   ]
  },
  {
   "cell_type": "code",
   "execution_count": null,
   "id": "54221632",
   "metadata": {},
   "outputs": [],
   "source": []
  }
 ],
 "metadata": {
  "kernelspec": {
   "display_name": "pytorch",
   "language": "python",
   "name": "pytorch"
  },
  "language_info": {
   "codemirror_mode": {
    "name": "ipython",
    "version": 3
   },
   "file_extension": ".py",
   "mimetype": "text/x-python",
   "name": "python",
   "nbconvert_exporter": "python",
   "pygments_lexer": "ipython3",
   "version": "3.7.10"
  }
 },
 "nbformat": 4,
 "nbformat_minor": 5
}
